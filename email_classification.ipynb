{
 "cells": [
  {
   "cell_type": "markdown",
   "metadata": {
    "id": "wMaGp08i6PMG"
   },
   "source": [
    "#Email Classification\n",
    "Let us classify emails into categories like Gmail.\n",
    "\n",
    "## Dataset\n",
    "You can either create your own dataset or use ours. [Click here](https://drive.google.com/file/d/1woXRa6KIBxoB-UOoJhUj1uEQgoQ62H95/view?usp=sharing) to download the dataset.\n",
    "\n",
    "## 1. Creating a dataset\n",
    "1. Make sure the gmail tabs is enabled. Follow the steps in [this link](https://www.maketecheasier.com/configure-tabbed-inbox-in-gmail/) if it's not enabled. \n",
    "2. Next create new labels for each category\n",
    "![alt text](https://i.imgur.com/24csC53.gif)\n",
    "3. Download the emails using [this script](https://gist.github.com/PandaWhoCodes/78d7ede9267a62f903d05fa4e11f2acd) and process them using [this script](https://gist.github.com/PandaWhoCodes/ddd0786b55dd2a791762d795850c08ce).\n",
    "upload the json file to your **data folder**."
   ]
  },
  {
   "cell_type": "markdown",
   "metadata": {
    "id": "RPmuga0XYpq6"
   },
   "source": [
    "## 2. Loading the Dataset\n"
   ]
  },
  {
   "cell_type": "code",
   "execution_count": 1,
   "metadata": {
    "colab": {
     "base_uri": "https://localhost:8080/",
     "height": 142
    },
    "id": "jBs2Wekk6zSu",
    "outputId": "a95dc2e1-3b81-4a79-9099-a03169d6d32b"
   },
   "outputs": [],
   "source": [
    "import json\n",
    "with open(\"mails.json\") as f:\n",
    "  data = json.load(fp=f)"
   ]
  },
  {
   "cell_type": "markdown",
   "metadata": {
    "id": "hFuCNBgEY7w4"
   },
   "source": [
    "## 3. import pandas as pd\n",
    "Getting only the subject line and storing the data in a pandas dataframe."
   ]
  },
  {
   "cell_type": "code",
   "execution_count": 2,
   "metadata": {
    "colab": {
     "base_uri": "https://localhost:8080/",
     "height": 70
    },
    "id": "u4hoziV67TWY",
    "outputId": "1c8adad6-dcdd-4893-a92c-1f0bab483fae"
   },
   "outputs": [
    {
     "name": "stdout",
     "output_type": "stream",
     "text": [
      "2001\n",
      "3159\n"
     ]
    },
    {
     "data": {
      "text/plain": [
       "597"
      ]
     },
     "execution_count": 2,
     "metadata": {},
     "output_type": "execute_result"
    }
   ],
   "source": [
    "import pandas as pd\n",
    "\n",
    "primary_mail_subjects = [mail[\"subject\"] for mail in data[\"primary\"]]\n",
    "promotional_mails_subjects = [mail[\"subject\"] for mail in data[\"promotional_mails\"]]\n",
    "social_mails_subjects = [mail[\"subject\"] for mail in data[\"social_mails\"]]\n",
    "\n",
    "print(len(primary_mail_subjects))\n",
    "print(len(promotional_mails_subjects))\n",
    "len(social_mails_subjects)"
   ]
  },
  {
   "cell_type": "markdown",
   "metadata": {
    "id": "7UsLF3Z2ZYG9"
   },
   "source": [
    "To avoid bias towards a particular catgory, we will only take 597 mails from each category "
   ]
  },
  {
   "cell_type": "code",
   "execution_count": 3,
   "metadata": {
    "id": "pqv8GoJIZWHE"
   },
   "outputs": [],
   "source": [
    "primary_mail_subjects = primary_mail_subjects[::-1][:597]\n",
    "promotional_mails_subjects = promotional_mails_subjects[::1][:597]"
   ]
  },
  {
   "cell_type": "markdown",
   "metadata": {
    "id": "k7hZdGHLZjJf"
   },
   "source": [
    "Converting and combining into one dataframe"
   ]
  },
  {
   "cell_type": "code",
   "execution_count": 4,
   "metadata": {
    "colab": {
     "base_uri": "https://localhost:8080/",
     "height": 195
    },
    "id": "B9gDhHlvZidm",
    "outputId": "fdd2e3db-c050-4ba6-e27b-8a33043b0063"
   },
   "outputs": [
    {
     "data": {
      "text/html": [
       "<div>\n",
       "<style scoped>\n",
       "    .dataframe tbody tr th:only-of-type {\n",
       "        vertical-align: middle;\n",
       "    }\n",
       "\n",
       "    .dataframe tbody tr th {\n",
       "        vertical-align: top;\n",
       "    }\n",
       "\n",
       "    .dataframe thead th {\n",
       "        text-align: right;\n",
       "    }\n",
       "</style>\n",
       "<table border=\"1\" class=\"dataframe\">\n",
       "  <thead>\n",
       "    <tr style=\"text-align: right;\">\n",
       "      <th></th>\n",
       "      <th>subject</th>\n",
       "      <th>category</th>\n",
       "    </tr>\n",
       "  </thead>\n",
       "  <tbody>\n",
       "    <tr>\n",
       "      <th>0</th>\n",
       "      <td>The Screen Patti just uploaded a video</td>\n",
       "      <td>2</td>\n",
       "    </tr>\n",
       "    <tr>\n",
       "      <th>1</th>\n",
       "      <td>Congratulate Bonskey Samson Samuel and 2...</td>\n",
       "      <td>2</td>\n",
       "    </tr>\n",
       "    <tr>\n",
       "      <th>2</th>\n",
       "      <td>The Screen Patti just uploaded a video</td>\n",
       "      <td>2</td>\n",
       "    </tr>\n",
       "    <tr>\n",
       "      <th>3</th>\n",
       "      <td>Fabin Services's invitation is waiting for you...</td>\n",
       "      <td>2</td>\n",
       "    </tr>\n",
       "    <tr>\n",
       "      <th>4</th>\n",
       "      <td>Magesh Tweeted: on chrome</td>\n",
       "      <td>2</td>\n",
       "    </tr>\n",
       "  </tbody>\n",
       "</table>\n",
       "</div>"
      ],
      "text/plain": [
       "                                             subject  category\n",
       "0             The Screen Patti just uploaded a video         2\n",
       "1        Congratulate Bonskey Samson Samuel and 2...         2\n",
       "2             The Screen Patti just uploaded a video         2\n",
       "3  Fabin Services's invitation is waiting for you...         2\n",
       "4                          Magesh Tweeted: on chrome         2"
      ]
     },
     "execution_count": 4,
     "metadata": {},
     "output_type": "execute_result"
    }
   ],
   "source": [
    "primary_df = pd.DataFrame(primary_mail_subjects,columns=[\"subject\"])\n",
    "primary_df[\"category\"] = 0\n",
    "promotional_df = pd.DataFrame(promotional_mails_subjects,columns=[\"subject\"])\n",
    "promotional_df[\"category\"] = 1\n",
    "social_df = pd.DataFrame(social_mails_subjects,columns=[\"subject\"])\n",
    "social_df[\"category\"] = 2\n",
    "data = pd.concat([social_df, promotional_df,primary_df], ignore_index=True)\n",
    "data.head()"
   ]
  },
  {
   "cell_type": "markdown",
   "metadata": {
    "id": "LfPqHP57Zw7r"
   },
   "source": [
    "## 4. Training\n"
   ]
  },
  {
   "cell_type": "markdown",
   "metadata": {
    "id": "mOSGBqW_Z-hF"
   },
   "source": [
    "### Importing useful libraries"
   ]
  },
  {
   "cell_type": "code",
   "execution_count": 5,
   "metadata": {
    "id": "D7AetK9hZ08w"
   },
   "outputs": [],
   "source": [
    "import numpy as np\n",
    "\n",
    "from sklearn.feature_extraction.text import  TfidfTransformer,TfidfVectorizer\n",
    "from sklearn.linear_model import SGDClassifier\n",
    "from sklearn.model_selection import train_test_split\n",
    "import nltk\n",
    "from nltk.corpus import stopwords\n",
    "from nltk.stem.wordnet import WordNetLemmatizer\n"
   ]
  },
  {
   "cell_type": "markdown",
   "metadata": {
    "id": "0m2lqylDaCtp"
   },
   "source": [
    "### Download nltk [lemmas](https://en.wikipedia.org/wiki/Lemma_(morphology)) and stop words"
   ]
  },
  {
   "cell_type": "code",
   "execution_count": 6,
   "metadata": {
    "id": "zIBj9Z_LabYT"
   },
   "outputs": [
    {
     "name": "stderr",
     "output_type": "stream",
     "text": [
      "[nltk_data] Downloading package stopwords to C:\\Users\\Kishore\n",
      "[nltk_data]     Balaji\\AppData\\Roaming\\nltk_data...\n",
      "[nltk_data]   Package stopwords is already up-to-date!\n",
      "[nltk_data] Downloading package wordnet to C:\\Users\\Kishore\n",
      "[nltk_data]     Balaji\\AppData\\Roaming\\nltk_data...\n",
      "[nltk_data]   Unzipping corpora\\wordnet.zip.\n"
     ]
    }
   ],
   "source": [
    "%%capture\n",
    "nltk.download('stopwords')\n",
    "nltk.download('wordnet')"
   ]
  },
  {
   "cell_type": "markdown",
   "metadata": {
    "id": "iuxJRWOCahq0"
   },
   "source": [
    "### Preprocessing text\n",
    "\n",
    "1. lemma is a canonical form of the word. So words like \"says\" will become \"say\".\n",
    "2. convert text to lower case\n",
    "\n"
   ]
  },
  {
   "cell_type": "code",
   "execution_count": 7,
   "metadata": {
    "id": "rWtXbdNRah39"
   },
   "outputs": [],
   "source": [
    "def pre_process(text):\n",
    "    wnl = WordNetLemmatizer()\n",
    "    words_list = (str(text).lower()).split()\n",
    "    final_words = [wnl.lemmatize(word) for word in words_list if word not in stopwords.words('english')]\n",
    "    final_words_str = str((\" \".join(final_words)))\n",
    "    return final_words_str"
   ]
  },
  {
   "cell_type": "code",
   "execution_count": 8,
   "metadata": {
    "id": "MnlaRazsa0du"
   },
   "outputs": [],
   "source": [
    "data['subject'] = data[\"subject\"].apply(pre_process)"
   ]
  },
  {
   "cell_type": "markdown",
   "metadata": {
    "id": "dzVEpNSJa5Hy"
   },
   "source": [
    "### Splitting into test and train data"
   ]
  },
  {
   "cell_type": "markdown",
   "metadata": {
    "id": "1HUOIH_KKGPJ"
   },
   "source": [
    "The computer cannot understand text, we need to represent text in numbers. Let us go step by step on how to perform that.\n",
    "\n",
    "---\n",
    "We will be using Tfidf to convert our words unto vectors.\n",
    "\n"
   ]
  },
  {
   "cell_type": "code",
   "execution_count": 9,
   "metadata": {
    "id": "e7sc6POTa79r"
   },
   "outputs": [],
   "source": [
    "X_train, X_test, y_train, y_test = train_test_split(data['subject'],data['category'],random_state = 42, test_size=0.20)\n",
    "tfidf = TfidfVectorizer()\n",
    "X_train_tfidf = tfidf.fit_transform(X_train)\n",
    "X_test_tfidf = tfidf.transform(X_test)"
   ]
  },
  {
   "cell_type": "code",
   "execution_count": 10,
   "metadata": {
    "colab": {
     "base_uri": "https://localhost:8080/",
     "height": 158
    },
    "id": "XMfVzCkDbFNc",
    "outputId": "184b94a1-3357-476c-b724-1c0b2998afd3"
   },
   "outputs": [
    {
     "data": {
      "text/plain": [
       "RandomForestClassifier()"
      ]
     },
     "execution_count": 10,
     "metadata": {},
     "output_type": "execute_result"
    }
   ],
   "source": [
    "from sklearn.ensemble import RandomForestClassifier\n",
    "rf_clf = RandomForestClassifier()\n",
    "rf_clf.fit(X_train_tfidf, y_train)"
   ]
  },
  {
   "cell_type": "markdown",
   "metadata": {
    "id": "iR55qB1OcQXE"
   },
   "source": [
    "## 5. Testing\n"
   ]
  },
  {
   "cell_type": "code",
   "execution_count": 11,
   "metadata": {
    "colab": {
     "base_uri": "https://localhost:8080/",
     "height": 34
    },
    "id": "gYt52NkacSvO",
    "outputId": "9b913691-2769-4945-9517-9906feb86deb"
   },
   "outputs": [
    {
     "name": "stdout",
     "output_type": "stream",
     "text": [
      "Accuracy: 0.8189415041782729\n"
     ]
    }
   ],
   "source": [
    "predicted = rf_clf.predict(X_test_tfidf)\n",
    "acc = np.mean(predicted == y_test)\n",
    "print(\"Accuracy:\",acc)"
   ]
  },
  {
   "cell_type": "code",
   "execution_count": 12,
   "metadata": {
    "id": "5BarkFcydN3R"
   },
   "outputs": [],
   "source": [
    "test_set = [\n",
    "    'Goodreads Newsletter: October 15, 2019',\n",
    "    'Your receipt for Swiggy order 55519927123 from Oct 30,2019',\n",
    "    'Congratulations, you now have 5k JPMiles. Redeem Now',\n",
    "    'Fabin Services invitation is waiting for you\t',\n",
    "    'Ashish, BoJack Horseman Season 6 is now on Netflix',\n",
    "    'Data Science Horror Stories'\n",
    "]"
   ]
  },
  {
   "cell_type": "code",
   "execution_count": 13,
   "metadata": {
    "colab": {
     "base_uri": "https://localhost:8080/",
     "height": 34
    },
    "id": "nVVGi9sOeIFK",
    "outputId": "23a86a69-4e84-4284-db4a-8b4d89dd1ee2"
   },
   "outputs": [
    {
     "data": {
      "text/plain": [
       "(6, 2502)"
      ]
     },
     "execution_count": 13,
     "metadata": {},
     "output_type": "execute_result"
    }
   ],
   "source": [
    "final_test = tfidf.transform(test_set)\n",
    "final_test.shape"
   ]
  },
  {
   "cell_type": "code",
   "execution_count": 14,
   "metadata": {
    "colab": {
     "base_uri": "https://localhost:8080/",
     "height": 34
    },
    "id": "7kVcA63mdXjM",
    "outputId": "a416ce2d-846d-41b8-b4ed-14058c477afe"
   },
   "outputs": [
    {
     "name": "stdout",
     "output_type": "stream",
     "text": [
      "['social_mails', 'primary', 'promotional_mails', 'social_mails', 'promotional_mails', 'promotional_mails']\n"
     ]
    }
   ],
   "source": [
    "categories = [\"primary\",\"promotional_mails\",\"social_mails\"]\n",
    "classes = [categories[category] for category in rf_clf.predict(final_test)]\n",
    "print(classes)"
   ]
  },
  {
   "cell_type": "markdown",
   "metadata": {
    "id": "QJimwo75k0ky"
   },
   "source": [
    "Let's try with another classifier"
   ]
  },
  {
   "cell_type": "code",
   "execution_count": 15,
   "metadata": {
    "colab": {
     "base_uri": "https://localhost:8080/",
     "height": 34
    },
    "id": "qDr_Jgl_euVK",
    "outputId": "bbb0860e-731d-41bc-f931-a3a97c17d070"
   },
   "outputs": [
    {
     "data": {
      "text/plain": [
       "0.841225626740947"
      ]
     },
     "execution_count": 15,
     "metadata": {},
     "output_type": "execute_result"
    }
   ],
   "source": [
    "sgd_clf = SGDClassifier()\n",
    "sgd_clf.fit(X_train_tfidf, y_train)\n",
    "predicted = sgd_clf.predict(X_test_tfidf)\n",
    "np.mean(predicted == y_test)\n"
   ]
  },
  {
   "cell_type": "markdown",
   "metadata": {
    "id": "eXn3lyRSoevv"
   },
   "source": [
    "## 6. Confusion Matrix\n",
    "\n",
    "A confusion matrix is a summary of prediction results on a classification problem.\n",
    "The number of correct and incorrect predictions are summarized with count values and broken down by each class. This is the key to the confusion matrix.\n",
    "The confusion matrix shows the ways in which your classification model is confused when it makes predictions.\n",
    "\n",
    "\n",
    "![alt text](https://pbs.twimg.com/media/EIWZ-e_XkAIEbOq?format=png&name=small)\n",
    "\n",
    "For a multiclass confusion matrix\n",
    "![alt text](https://www.researchgate.net/publication/320995731/figure/tbl3/AS:668660284792842@1536432443377/Confusion-matrix-having-3-classes.png)"
   ]
  },
  {
   "cell_type": "code",
   "execution_count": 20,
   "metadata": {
    "colab": {
     "base_uri": "https://localhost:8080/",
     "height": 282
    },
    "id": "QY-XrluimH5N",
    "outputId": "d4868065-39ab-4aa7-e354-c370884c05cf"
   },
   "outputs": [
    {
     "data": {
      "image/png": "[encoded data removed]",
      "text/plain": [
       "<Figure size 432x288 with 2 Axes>"
      ]
     },
     "metadata": {
      "needs_background": "light"
     },
     "output_type": "display_data"
    }
   ],
   "source": [
    "from sklearn.metrics import plot_confusion_matrix\n",
    "import matplotlib.pyplot as plt\n",
    "\n",
    "disp = plot_confusion_matrix(sgd_clf, X_test_tfidf, y_test,\n",
    "                                 display_labels=categories,\n",
    "                                 cmap=plt.cm.Blues)\n",
    "plt.show()\n"
   ]
  },
  {
   "cell_type": "markdown",
   "metadata": {
    "id": "CVGlBTT_q-S1"
   },
   "source": [
    "## Precision, Recall, Accuracy and F1 score\n",
    "\n",
    "![alt text](https://qphs.fs.quoracdn.net/main-qimg-91aaad3402ca66e8f1d451a56cad7539.webp)\n",
    "\n",
    "precision tells you **how many of the selected objects were correct**. That is the green part inside the circle divided by everything inside the circle. Recall tells you **how many of the objects that should have been selected were actually selected**. That is the green part inside the circle divided by the dark grey part.\n",
    "\n",
    "Precision and recall counter each other, that is, increasing one of them reduces the other.\n",
    "\n",
    "Let’s look at the extreme cases: if you select almost everything, the precision is very low, while the recall is very high; if you select almost nothing, precision is very high, while the recall is very low. Therefore, the goal is to have some sort of a balance between the two. The most common way to do this is to use **F-1 score**, which is the harmonic mean of **precision and recall**, so that if either precision or recall is too low, F-1 score is too low. The goal of maximizing the F-1 score ensures that we get a reasonably high precision and recall. \n",
    "\n",
    "\n",
    "For rare cancer data modeling, anything that doesn't account for false-negatives is a crime. Recall is a better measure than precision\n",
    "\n"
   ]
  },
  {
   "cell_type": "code",
   "execution_count": 21,
   "metadata": {
    "colab": {
     "base_uri": "https://localhost:8080/",
     "height": 87
    },
    "id": "hhKrRbjOrIY3",
    "outputId": "d1ed423e-23b8-49fd-946d-5f880163f83d"
   },
   "outputs": [
    {
     "name": "stdout",
     "output_type": "stream",
     "text": [
      "Accuracy: 0.841226\n",
      "Precision: 0.841226\n",
      "Recall: 0.841226\n",
      "F1 score: 0.841226\n"
     ]
    }
   ],
   "source": [
    "from sklearn.metrics import accuracy_score\n",
    "from sklearn.metrics import precision_score\n",
    "from sklearn.metrics import recall_score\n",
    "from sklearn.metrics import f1_score\n",
    "\n",
    "# accuracy: (tp + tn) / (p + n)\n",
    "accuracy = accuracy_score(y_test, predicted)\n",
    "print('Accuracy: %f' % accuracy)\n",
    "# precision tp / (tp + fp)\n",
    "precision = precision_score(y_test, predicted,average='micro')\n",
    "print('Precision: %f' % precision)\n",
    "# recall: tp / (tp + fn)\n",
    "recall = recall_score(y_test, predicted,average='micro')\n",
    "print('Recall: %f' % recall)\n",
    "# f1: 2 tp / (2 tp + fp + fn)\n",
    "f1 = f1_score(y_test, predicted,average='micro')\n",
    "print('F1 score: %f' % f1)"
   ]
  },
  {
   "cell_type": "markdown",
   "metadata": {
    "id": "2zyeCu_Zey_o"
   },
   "source": [
    "# Hyper Parameter Tuning\n",
    "\n",
    "A hyperparameter is a parameter whose value is set before the learning process begins.Hyperparameter tuning is choosing a set of optimal hyperparameters for a learning algorithm\n",
    "\n",
    "**Grid search** is a traditional way to perform hyperparameter optimization. It works by searching **exhaustively** through a specified subset of hyperparameters.\n",
    "Using sklearn’sGridSearchCV, we first define our grid of parameters to search over and then run the grid search.\n"
   ]
  },
  {
   "cell_type": "code",
   "execution_count": 22,
   "metadata": {
    "colab": {
     "base_uri": "https://localhost:8080/",
     "height": 336
    },
    "id": "fSsh-y4NetXl",
    "outputId": "03996a5a-dfff-4ca5-cbe6-1bf90c731447"
   },
   "outputs": [
    {
     "name": "stdout",
     "output_type": "stream",
     "text": [
      "Fitting 5 folds for each of 288 candidates, totalling 1440 fits\n"
     ]
    },
    {
     "name": "stderr",
     "output_type": "stream",
     "text": [
      "[Parallel(n_jobs=-1)]: Using backend LokyBackend with 8 concurrent workers.\n",
      "[Parallel(n_jobs=-1)]: Done  34 tasks      | elapsed:    1.8s\n",
      "[Parallel(n_jobs=-1)]: Done 560 tasks      | elapsed:    5.6s\n"
     ]
    },
    {
     "name": "stdout",
     "output_type": "stream",
     "text": [
      "Best Score: 0.838\n",
      "-------------------------------------------\n",
      "Best Parameters:\n",
      "\tclf__alpha: 0.001\n",
      "\tclf__penalty: 'l2'\n",
      "\ttfidf__norm: 'l2'\n",
      "\ttfidf__use_idf: False\n",
      "\tvect__max_df: 0.5\n",
      "\tvect__max_features: 5000\n",
      "\tvect__ngram_range: (1, 1)\n"
     ]
    },
    {
     "name": "stderr",
     "output_type": "stream",
     "text": [
      "[Parallel(n_jobs=-1)]: Done 1425 out of 1440 | elapsed:   11.8s remaining:    0.0s\n",
      "[Parallel(n_jobs=-1)]: Done 1440 out of 1440 | elapsed:   11.9s finished\n"
     ]
    }
   ],
   "source": [
    "from sklearn.pipeline import Pipeline\n",
    "from sklearn.model_selection import GridSearchCV\n",
    "pipeline = Pipeline([\n",
    "    ('vect', TfidfVectorizer()),\n",
    "    ('tfidf', TfidfTransformer()),\n",
    "    ('clf', SGDClassifier()),\n",
    "])\n",
    "\n",
    "parameters = {\n",
    "    'vect__max_df': (0.5, 1.0),\n",
    "    'vect__max_features': (None, 1000, 5000),\n",
    "    'vect__ngram_range': ((1, 1), (1, 2)),\n",
    "    'tfidf__use_idf': (True, False),\n",
    "    'tfidf__norm': ('l1', 'l2'),\n",
    "    'clf__alpha': (0.1, 0.01, 0.001),\n",
    "    'clf__penalty': ('l2', 'elasticnet'),\n",
    "    # 'clf__n_iter': (10, 50),\n",
    "}\n",
    "grid_search = GridSearchCV(pipeline, parameters, n_jobs=-1, verbose=1, refit=True)\n",
    "\n",
    "grid_search.fit(np.array(data['subject']), np.array(data['category']))\n",
    "print(\"Best Score: %0.3f\\n-------------------------------------------\" % grid_search.best_score_)\n",
    "print(\"Best Parameters:\")\n",
    "best_parameters = grid_search.best_estimator_.get_params()\n",
    "for param_name in sorted(parameters.keys()):\n",
    "    print(\"\\t%s: %r\" % (param_name, best_parameters[param_name]))\n"
   ]
  },
  {
   "cell_type": "code",
   "execution_count": 23,
   "metadata": {
    "id": "q89u1njuCoR7"
   },
   "outputs": [],
   "source": [
    "test_set = [\n",
    "    'Goodreads Newsletter: October 15, 2019',\n",
    "    'Your receipt for Swiggy order 55519927123 from Oct 30,2019',\n",
    "    'Congratulations, you now have 5k JPMiles. Redeem Now',\n",
    "    'Fabin Services invitation is waiting for you\t',\n",
    "    'Ashish, BoJack Horseman Season 6 is now on Netflix',\n",
    "    'Data Science Horror Stories'\n",
    "]"
   ]
  },
  {
   "cell_type": "code",
   "execution_count": 24,
   "metadata": {
    "colab": {
     "base_uri": "https://localhost:8080/",
     "height": 34
    },
    "id": "xCdo5_7xDdpa",
    "outputId": "b105a7da-ed0a-4402-aa41-db3abb45199d"
   },
   "outputs": [
    {
     "name": "stdout",
     "output_type": "stream",
     "text": [
      "['social_mails', 'primary', 'promotional_mails', 'social_mails', 'promotional_mails', 'primary']\n"
     ]
    }
   ],
   "source": [
    "classes = [categories[category] for category in grid_search.best_estimator_.predict(np.array(test_set))]\n",
    "print(classes)"
   ]
  }
 ],
 "metadata": {
  "colab": {
   "name": "email_classification.ipynb",
   "provenance": []
  },
  "kernelspec": {
   "display_name": "Python 3",
   "language": "python",
   "name": "python3"
  },
  "language_info": {
   "codemirror_mode": {
    "name": "ipython",
    "version": 3
   },
   "file_extension": ".py",
   "mimetype": "text/x-python",
   "name": "python",
   "nbconvert_exporter": "python",
   "pygments_lexer": "ipython3",
   "version": "3.8.5"
  }
 },
 "nbformat": 4,
 "nbformat_minor": 1
}
